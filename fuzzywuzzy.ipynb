{
 "cells": [
  {
   "cell_type": "code",
   "execution_count": 31,
   "id": "f5d15719-7c50-4195-ac47-98dd8b7dfa28",
   "metadata": {
    "tags": []
   },
   "outputs": [
    {
     "name": "stdout",
     "output_type": "stream",
     "text": [
      "Nombre recibido: Juan ZALAZR\n",
      "Nombre corregido: Juan Salazar\n"
     ]
    }
   ],
   "source": [
    "from fuzzywuzzy import process\n",
    "\n",
    "# Lista de nombres estándar\n",
    "nombres_estandar = [\"Juan Salazar\",\"Diego Alí Salinas García\",\"María López\", \"Carlos García\", \"Ana Fernández\"]\n",
    "\n",
    "# Nombre recibido con posible error\n",
    "nombre_recibido = \"Juan ZALAZR\"\n",
    "\n",
    "# Encuentra el nombre más similar en la lista de nombres estándar\n",
    "nombre_similar, puntuacion = process.extractOne(nombre_recibido, nombres_estandar)\n",
    "\n",
    "if puntuacion > 85:  # Umbral de similitud\n",
    "    nombre_corregido = nombre_similar\n",
    "else:\n",
    "    nombre_corregido = nombre_recibido\n",
    "\n",
    "print(f\"Nombre recibido: {nombre_recibido}\")\n",
    "print(f\"Nombre corregido: {nombre_corregido}\")"
   ]
  },
  {
   "cell_type": "code",
   "execution_count": 24,
   "id": "c1c1aa1f-2691-4705-b054-49a3fd503e94",
   "metadata": {
    "tags": []
   },
   "outputs": [
    {
     "name": "stdout",
     "output_type": "stream",
     "text": [
      "Defaulting to user installation because normal site-packages is not writeable\n",
      "Collecting python-Levenshtein\n",
      "  Downloading python_Levenshtein-0.25.1-py3-none-any.whl.metadata (3.7 kB)\n",
      "Collecting Levenshtein==0.25.1 (from python-Levenshtein)\n",
      "  Downloading Levenshtein-0.25.1-cp311-cp311-win_amd64.whl.metadata (3.4 kB)\n",
      "Collecting rapidfuzz<4.0.0,>=3.8.0 (from Levenshtein==0.25.1->python-Levenshtein)\n",
      "  Downloading rapidfuzz-3.9.1-cp311-cp311-win_amd64.whl.metadata (11 kB)\n",
      "Downloading python_Levenshtein-0.25.1-py3-none-any.whl (9.4 kB)\n",
      "Downloading Levenshtein-0.25.1-cp311-cp311-win_amd64.whl (98 kB)\n",
      "   ---------------------------------------- 0.0/98.4 kB ? eta -:--:--\n",
      "   ------------ --------------------------- 30.7/98.4 kB 1.4 MB/s eta 0:00:01\n",
      "   ----------------------------- ---------- 71.7/98.4 kB 787.7 kB/s eta 0:00:01\n",
      "   ---------------------------------------- 98.4/98.4 kB 808.4 kB/s eta 0:00:00\n",
      "Downloading rapidfuzz-3.9.1-cp311-cp311-win_amd64.whl (1.7 MB)\n",
      "   ---------------------------------------- 0.0/1.7 MB ? eta -:--:--\n",
      "   -- ------------------------------------- 0.1/1.7 MB 7.0 MB/s eta 0:00:01\n",
      "   --------- ------------------------------ 0.4/1.7 MB 6.0 MB/s eta 0:00:01\n",
      "   --------------------- ------------------ 0.9/1.7 MB 6.9 MB/s eta 0:00:01\n",
      "   ------------------------------------ --- 1.5/1.7 MB 8.6 MB/s eta 0:00:01\n",
      "   ---------------------------------------- 1.7/1.7 MB 8.7 MB/s eta 0:00:00\n",
      "Installing collected packages: rapidfuzz, Levenshtein, python-Levenshtein\n",
      "Successfully installed Levenshtein-0.25.1 python-Levenshtein-0.25.1 rapidfuzz-3.9.1\n"
     ]
    }
   ],
   "source": [
    "!pip install python-Levenshtein"
   ]
  },
  {
   "cell_type": "code",
   "execution_count": null,
   "id": "8698ff85-621f-49ca-a200-c783858adbce",
   "metadata": {},
   "outputs": [],
   "source": [
    "import pandas as pd\n",
    "from fuzzywuzzy import process\n",
    "\n",
    "# Cargar los datos del conjunto de datos con errores desde Power Query\n",
    "nombres_con_errores = dataset\n",
    "\n",
    "# Cargar los nombres estándar desde el archivo CSV en tu PC\n",
    "ruta_csv = r\"C:\\Users\\diego.salinas\\Downloads\\nombres IMSS.csv\"\n",
    "nombres_estandar = pd.read_csv(ruta_csv, encoding='latin1', header=None)\n",
    "\n",
    "# Asegúrate de que nombres_estandar solo tenga la columna de nombres\n",
    "if 'Nombre' in nombres_estandar.columns:\n",
    "    nombres_estandar_list = nombres_estandar['Nombre'].tolist()\n",
    "else:\n",
    "    nombres_estandar_list = nombres_estandar.iloc[:, 0].tolist()\n",
    "\n",
    "# Función para conciliar nombres\n",
    "def conciliar_nombre(nombre):\n",
    "    resultado = process.extractOne(nombre, nombres_estandar_list)\n",
    "    nombre_similar, puntuacion = resultado[0], resultado[1]\n",
    "    if puntuacion > 90:  # Umbral de similitud\n",
    "        return nombre_similar\n",
    "    else:\n",
    "        return nombre\n",
    "\n",
    "# Aplicar la función a la columna 'Nombre' en el conjunto de datos con errores\n",
    "nombres_con_errores['Nombre Corregido'] = nombres_con_errores['Nombre incidencia'].apply(conciliar_nombre)\n",
    "\n",
    "# Devolver el DataFrame resultante\n",
    "nombres_con_errores\n"
   ]
  }
 ],
 "metadata": {
  "kernelspec": {
   "display_name": "Python 3 (ipykernel)",
   "language": "python",
   "name": "python3"
  },
  "language_info": {
   "codemirror_mode": {
    "name": "ipython",
    "version": 3
   },
   "file_extension": ".py",
   "mimetype": "text/x-python",
   "name": "python",
   "nbconvert_exporter": "python",
   "pygments_lexer": "ipython3",
   "version": "3.11.7"
  }
 },
 "nbformat": 4,
 "nbformat_minor": 5
}

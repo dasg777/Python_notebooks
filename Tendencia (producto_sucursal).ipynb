{
 "cells": [
  {
   "cell_type": "code",
   "execution_count": 1,
   "id": "74884a1d-7408-477d-a6ee-0216e711208f",
   "metadata": {
    "scrolled": true
   },
   "outputs": [
    {
     "name": "stderr",
     "output_type": "stream",
     "text": [
      "C:\\Users\\diego.salinas\\AppData\\Local\\Temp\\ipykernel_36284\\1844772744.py:39: UserWarning: pandas only supports SQLAlchemy connectable (engine/connection) or database string URI or sqlite3 DBAPI2 connection. Other DBAPI2 objects are not tested. Please consider using SQLAlchemy.\n",
      "  df = pd.read_sql(query, conn)\n"
     ]
    }
   ],
   "source": [
    "import pyodbc\n",
    "import pandas as pd\n",
    "from sklearn.linear_model import LinearRegression\n",
    "\n",
    "\n",
    "# Detalles de conexión\n",
    "server = '.'\n",
    "database = 'Testing'\n",
    "#username = ''\n",
    "#password = ''\n",
    "driver= '{ODBC Driver 17 for SQL Server}' \n",
    "        \n",
    "# Creación de la cadena de conexión\n",
    "conn = pyodbc.connect('DRIVER='+driver+';SERVER='+server+';DATABASE='+database+';Trusted_Connection=yes;')\n",
    "\n",
    "\n",
    "# consulta SQL\n",
    "query = \"\"\"\n",
    "\n",
    "DECLARE @FechaMaxima DATETIME;\n",
    "SELECT @FechaMaxima = MAX([Fecha])\n",
    "FROM Ventas.dbo.[venta_detalle];\n",
    "\n",
    "SELECT \n",
    "    [Fecha]\n",
    "    ,[Sucursal]\n",
    "    ,[Artículo]\n",
    "\t,SUBSTRING(ClaseS,2,1) as Frecuencia\n",
    "FROM \n",
    "    [Testing].[dbo].[Clasificacion_test]\n",
    "WHERE \n",
    "    Fecha = @FechaMaxima \n",
    "ORDER BY \n",
    "    Artículo, Sucursal, Fecha;\n",
    "\n",
    "\"\"\"\n",
    "\n",
    "# Ejecutar  consulta y cargar  datos en un DataFrame\n",
    "df = pd.read_sql(query, conn)"
   ]
  },
  {
   "cell_type": "code",
   "execution_count": 9,
   "id": "b2c7363e-3237-4279-9b0b-00006baba50b",
   "metadata": {},
   "outputs": [
    {
     "ename": "ValueError",
     "evalue": "cannot insert Sucursal, already exists",
     "output_type": "error",
     "traceback": [
      "\u001b[1;31m---------------------------------------------------------------------------\u001b[0m",
      "\u001b[1;31mValueError\u001b[0m                                Traceback (most recent call last)",
      "\u001b[1;32m~\\AppData\\Local\\Temp\\ipykernel_36284\\2463166937.py\u001b[0m in \u001b[0;36m?\u001b[1;34m()\u001b[0m\n\u001b[0;32m     30\u001b[0m         \u001b[1;32mreturn\u001b[0m \u001b[0mpd\u001b[0m\u001b[1;33m.\u001b[0m\u001b[0mDataFrame\u001b[0m\u001b[1;33m(\u001b[0m\u001b[1;33m{\u001b[0m\u001b[1;34m'Tendencia'\u001b[0m\u001b[1;33m:\u001b[0m \u001b[1;33m[\u001b[0m\u001b[1;36m0.0\u001b[0m\u001b[1;33m]\u001b[0m \u001b[1;33m*\u001b[0m \u001b[0mlen\u001b[0m\u001b[1;33m(\u001b[0m\u001b[0mgroup\u001b[0m\u001b[1;33m)\u001b[0m\u001b[1;33m}\u001b[0m\u001b[1;33m)\u001b[0m  \u001b[1;31m# Retorna 0 si todos los valores son iguales\u001b[0m\u001b[1;33m\u001b[0m\u001b[1;33m\u001b[0m\u001b[0m\n\u001b[0;32m     31\u001b[0m \u001b[1;33m\u001b[0m\u001b[0m\n\u001b[0;32m     32\u001b[0m \u001b[1;33m\u001b[0m\u001b[0m\n\u001b[0;32m     33\u001b[0m \u001b[1;31m# Calcular las tendencias para cada grupo\u001b[0m\u001b[1;33m\u001b[0m\u001b[1;33m\u001b[0m\u001b[0m\n\u001b[1;32m---> 34\u001b[1;33m \u001b[0mtrends\u001b[0m \u001b[1;33m=\u001b[0m \u001b[0mgrouped\u001b[0m\u001b[1;33m.\u001b[0m\u001b[0mapply\u001b[0m\u001b[1;33m(\u001b[0m\u001b[0mapply_linear_regression\u001b[0m\u001b[1;33m)\u001b[0m\u001b[1;33m.\u001b[0m\u001b[0mreset_index\u001b[0m\u001b[1;33m(\u001b[0m\u001b[1;33m)\u001b[0m\u001b[1;33m\u001b[0m\u001b[1;33m\u001b[0m\u001b[0m\n\u001b[0m\u001b[0;32m     35\u001b[0m \u001b[1;33m\u001b[0m\u001b[0m\n\u001b[0;32m     36\u001b[0m \u001b[1;31m# Fusionar los resultados con el DataFrame original\u001b[0m\u001b[1;33m\u001b[0m\u001b[1;33m\u001b[0m\u001b[0m\n\u001b[0;32m     37\u001b[0m \u001b[0mdf\u001b[0m \u001b[1;33m=\u001b[0m \u001b[0mpd\u001b[0m\u001b[1;33m.\u001b[0m\u001b[0mmerge\u001b[0m\u001b[1;33m(\u001b[0m\u001b[0mdf\u001b[0m\u001b[1;33m,\u001b[0m \u001b[0mtrends\u001b[0m\u001b[1;33m,\u001b[0m \u001b[0mon\u001b[0m\u001b[1;33m=\u001b[0m\u001b[1;33m[\u001b[0m\u001b[1;34m'Artículo'\u001b[0m\u001b[1;33m,\u001b[0m \u001b[1;34m'Sucursal'\u001b[0m\u001b[1;33m]\u001b[0m\u001b[1;33m,\u001b[0m \u001b[0mhow\u001b[0m\u001b[1;33m=\u001b[0m\u001b[1;34m'left'\u001b[0m\u001b[1;33m)\u001b[0m\u001b[1;33m\u001b[0m\u001b[1;33m\u001b[0m\u001b[0m\n",
      "\u001b[1;32mC:\\ProgramData\\anaconda3\\Lib\\site-packages\\pandas\\core\\frame.py\u001b[0m in \u001b[0;36m?\u001b[1;34m(self, level, drop, inplace, col_level, col_fill, allow_duplicates, names)\u001b[0m\n\u001b[0;32m   6216\u001b[0m                     level_values = algorithms.take(\n\u001b[0;32m   6217\u001b[0m                         \u001b[0mlevel_values\u001b[0m\u001b[1;33m,\u001b[0m \u001b[0mlab\u001b[0m\u001b[1;33m,\u001b[0m \u001b[0mallow_fill\u001b[0m\u001b[1;33m=\u001b[0m\u001b[1;32mTrue\u001b[0m\u001b[1;33m,\u001b[0m \u001b[0mfill_value\u001b[0m\u001b[1;33m=\u001b[0m\u001b[0mlev\u001b[0m\u001b[1;33m.\u001b[0m\u001b[0m_na_value\u001b[0m\u001b[1;33m\u001b[0m\u001b[1;33m\u001b[0m\u001b[0m\n\u001b[0;32m   6218\u001b[0m                     )\n\u001b[0;32m   6219\u001b[0m \u001b[1;33m\u001b[0m\u001b[0m\n\u001b[1;32m-> 6220\u001b[1;33m                 new_obj.insert(\n\u001b[0m\u001b[0;32m   6221\u001b[0m                     \u001b[1;36m0\u001b[0m\u001b[1;33m,\u001b[0m\u001b[1;33m\u001b[0m\u001b[1;33m\u001b[0m\u001b[0m\n\u001b[0;32m   6222\u001b[0m                     \u001b[0mname\u001b[0m\u001b[1;33m,\u001b[0m\u001b[1;33m\u001b[0m\u001b[1;33m\u001b[0m\u001b[0m\n\u001b[0;32m   6223\u001b[0m                     \u001b[0mlevel_values\u001b[0m\u001b[1;33m,\u001b[0m\u001b[1;33m\u001b[0m\u001b[1;33m\u001b[0m\u001b[0m\n",
      "\u001b[1;32mC:\\ProgramData\\anaconda3\\Lib\\site-packages\\pandas\\core\\frame.py\u001b[0m in \u001b[0;36m?\u001b[1;34m(self, loc, column, value, allow_duplicates)\u001b[0m\n\u001b[0;32m   4927\u001b[0m                 \u001b[1;34m\"'self.flags.allows_duplicate_labels' is False.\"\u001b[0m\u001b[1;33m\u001b[0m\u001b[1;33m\u001b[0m\u001b[0m\n\u001b[0;32m   4928\u001b[0m             )\n\u001b[0;32m   4929\u001b[0m         \u001b[1;32mif\u001b[0m \u001b[1;32mnot\u001b[0m \u001b[0mallow_duplicates\u001b[0m \u001b[1;32mand\u001b[0m \u001b[0mcolumn\u001b[0m \u001b[1;32min\u001b[0m \u001b[0mself\u001b[0m\u001b[1;33m.\u001b[0m\u001b[0mcolumns\u001b[0m\u001b[1;33m:\u001b[0m\u001b[1;33m\u001b[0m\u001b[1;33m\u001b[0m\u001b[0m\n\u001b[0;32m   4930\u001b[0m             \u001b[1;31m# Should this be a different kind of error??\u001b[0m\u001b[1;33m\u001b[0m\u001b[1;33m\u001b[0m\u001b[0m\n\u001b[1;32m-> 4931\u001b[1;33m             \u001b[1;32mraise\u001b[0m \u001b[0mValueError\u001b[0m\u001b[1;33m(\u001b[0m\u001b[1;34mf\"cannot insert {column}, already exists\"\u001b[0m\u001b[1;33m)\u001b[0m\u001b[1;33m\u001b[0m\u001b[1;33m\u001b[0m\u001b[0m\n\u001b[0m\u001b[0;32m   4932\u001b[0m         \u001b[1;32mif\u001b[0m \u001b[1;32mnot\u001b[0m \u001b[0mis_integer\u001b[0m\u001b[1;33m(\u001b[0m\u001b[0mloc\u001b[0m\u001b[1;33m)\u001b[0m\u001b[1;33m:\u001b[0m\u001b[1;33m\u001b[0m\u001b[1;33m\u001b[0m\u001b[0m\n\u001b[0;32m   4933\u001b[0m             \u001b[1;32mraise\u001b[0m \u001b[0mTypeError\u001b[0m\u001b[1;33m(\u001b[0m\u001b[1;34m\"loc must be int\"\u001b[0m\u001b[1;33m)\u001b[0m\u001b[1;33m\u001b[0m\u001b[1;33m\u001b[0m\u001b[0m\n\u001b[0;32m   4934\u001b[0m         \u001b[1;31m# convert non stdlib ints to satisfy typing checks\u001b[0m\u001b[1;33m\u001b[0m\u001b[1;33m\u001b[0m\u001b[0m\n",
      "\u001b[1;31mValueError\u001b[0m: cannot insert Sucursal, already exists"
     ]
    }
   ],
   "source": [
    "# Mapeo de clasificaciones a valores numéricos\n",
    "clasificacion_a_numero = {'A': 4, 'B': 2, 'C': 1, 'L': 0}\n",
    "df['Frecuencia_Num'] = df['Frecuencia'].map(clasificacion_a_numero)\n",
    "\n",
    "# Convertir las fechas a formato numérico para la regresión\n",
    "df['Fecha_Num'] = pd.to_datetime(df['Fecha']).map(pd.Timestamp.toordinal)\n",
    "\n",
    "# Agrupar datos por Artículo y Sucursal\n",
    "grouped = df.groupby(['Artículo', 'Sucursal'])\n",
    "\n",
    "# Función para aplicar regresión lineal a cada grupo\n",
    "#def apply_linear_regression(group):\n",
    " #   if group['Frecuencia_Num'].nunique() > 1:  # Más de un valor único\n",
    "  #      model = LinearRegression()\n",
    "   #     X = group['Fecha_Num'].values.reshape(-1, 1)\n",
    "    #    y = group['Frecuencia_Num'].values\n",
    "     #   model.fit(X, y)\n",
    "      #  return model.coef_[0]  # Retorna la pendiente\n",
    " #   else:\n",
    "  #      return 0.0  # Retorna 0 si todos los valores son iguales\n",
    "\n",
    "def apply_linear_regression(group):\n",
    "    if group['Frecuencia_Num'].nunique() > 1:  # Más de un valor único\n",
    "        model = LinearRegression()\n",
    "        X = group['Fecha_Num'].values.reshape(-1, 1)\n",
    "        y = group['Frecuencia_Num'].values\n",
    "        model.fit(X, y)\n",
    "        return pd.DataFrame({'Tendencia': [model.coef_[0]] * len(group)})  # Retorna la pendiente\n",
    "    else:\n",
    "        return pd.DataFrame({'Tendencia': [0.0] * len(group)})  # Retorna 0 si todos los valores son iguales\n",
    "\n",
    "\n",
    "# Calcular las tendencias para cada grupo\n",
    "trends = grouped.apply(apply_linear_regression).reset_index()\n",
    "\n",
    "# Fusionar los resultados con el DataFrame original\n",
    "df = pd.merge(df, trends, on=['Artículo', 'Sucursal'], how='left')\n",
    "\n",
    "# Mostrar los primeros registros del DataFrame con la tendencia calculada\n",
    "print(df.head())"
   ]
  },
  {
   "cell_type": "code",
   "execution_count": null,
   "id": "65e87c18-0680-4f95-a871-42c463e55a1b",
   "metadata": {},
   "outputs": [],
   "source": [
    "cursor = conn.cursor()\n",
    "\n",
    "# Preparar y ejecutar las instrucciones de actualización\n",
    "for index, row in df.iterrows():\n",
    "    update_query = \"\"\"\n",
    "    UPDATE Clasificacion_test\n",
    "    SET Tendencia = ?\n",
    "    WHERE Fecha = ? AND Sucursal = ? AND Artículo = ?\n",
    "    \"\"\"\n",
    "    cursor.execute(update_query, (row['Tendencia'], row['Fecha'], row['Sucursal'], row['Artículo']))\n",
    "\n",
    "conn.commit()  # Confirmar todos los cambios\n",
    "cursor.close()  # Cerrar el cursor\n",
    "conn.close()  # Cerrar la conexión\n",
    "\n",
    "print(\"La tabla ha sido actualizada con éxito.\")"
   ]
  }
 ],
 "metadata": {
  "kernelspec": {
   "display_name": "Python 3 (ipykernel)",
   "language": "python",
   "name": "python3"
  },
  "language_info": {
   "codemirror_mode": {
    "name": "ipython",
    "version": 3
   },
   "file_extension": ".py",
   "mimetype": "text/x-python",
   "name": "python",
   "nbconvert_exporter": "python",
   "pygments_lexer": "ipython3",
   "version": "3.11.7"
  }
 },
 "nbformat": 4,
 "nbformat_minor": 5
}
